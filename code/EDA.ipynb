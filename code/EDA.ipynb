{
 "cells": [
  {
   "cell_type": "code",
   "execution_count": 17,
   "metadata": {},
   "outputs": [
    {
     "name": "stdout",
     "output_type": "stream",
     "text": [
      "[0] Downloading 'http://archive.ics.uci.edu/static/public/222/bank+marketing.zip' ...\n",
      "Saving 'bank+marketing.zip'\n",
      "HTTP response 200 OK [http://archive.ics.uci.edu/static/public/222/bank+marketing.zip]\n",
      "\u001b[m\u001b[m\u001b[m\u001b[mArchive:  bank+marketing.zip\n",
      " extracting: bank.zip                \n",
      " extracting: bank-additional.zip     \n",
      "Archive:  bank.zip\n",
      "  inflating: bank-full.csv           \n",
      "  inflating: bank-names.txt          \n",
      "  inflating: bank.csv                \n",
      "Archive:  bank-additional.zip\n",
      "   creating: bank-additional/\n",
      "  inflating: bank-additional/.DS_Store  \n",
      "   creating: __MACOSX/\n",
      "   creating: __MACOSX/bank-additional/\n",
      "  inflating: __MACOSX/bank-additional/._.DS_Store  \n",
      "  inflating: bank-additional/.Rhistory  \n",
      "  inflating: bank-additional/bank-additional-full.csv  \n",
      "  inflating: bank-additional/bank-additional-names.txt  \n",
      "  inflating: bank-additional/bank-additional.csv  \n",
      "  inflating: __MACOSX/._bank-additional  \n",
      "Files Extracted and Moved\n"
     ]
    }
   ],
   "source": [
    "!bash Pipeline.sh"
   ]
  }
 ],
 "metadata": {
  "kernelspec": {
   "display_name": "base",
   "language": "python",
   "name": "python3"
  },
  "language_info": {
   "codemirror_mode": {
    "name": "ipython",
    "version": 3
   },
   "file_extension": ".py",
   "mimetype": "text/x-python",
   "name": "python",
   "nbconvert_exporter": "python",
   "pygments_lexer": "ipython3",
   "version": "3.11.3"
  },
  "orig_nbformat": 4
 },
 "nbformat": 4,
 "nbformat_minor": 2
}
